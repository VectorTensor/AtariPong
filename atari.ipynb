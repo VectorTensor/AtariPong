{
 "cells": [
  {
   "cell_type": "code",
   "execution_count": 1,
   "metadata": {},
   "outputs": [],
   "source": [
    "import gymnasium as gym\n",
    "import torch\n",
    "import random\n",
    "env = gym.make(\"PongDeterministic-v4\", render_mode=\"human\")\n",
    "\n",
    "\n"
   ]
  },
  {
   "cell_type": "code",
   "execution_count": 2,
   "metadata": {},
   "outputs": [
    {
     "name": "stdout",
     "output_type": "stream",
     "text": [
      "(210, 160, 3)\n"
     ]
    }
   ],
   "source": [
    "state_shape = env.observation_space.shape\n",
    "n_action = env.action_space.n\n",
    "print(state_shape)"
   ]
  },
  {
   "cell_type": "code",
   "execution_count": 3,
   "metadata": {},
   "outputs": [
    {
     "name": "stdout",
     "output_type": "stream",
     "text": [
      "['NOOP', 'FIRE', 'RIGHT', 'LEFT', 'RIGHTFIRE', 'LEFTFIRE']\n"
     ]
    }
   ],
   "source": [
    "print(env.unwrapped.get_action_meanings())"
   ]
  },
  {
   "cell_type": "code",
   "execution_count": 4,
   "metadata": {},
   "outputs": [],
   "source": [
    "ACTIONS = [0,2,3]\n",
    "n_action = 3\n"
   ]
  },
  {
   "cell_type": "code",
   "execution_count": 5,
   "metadata": {},
   "outputs": [
    {
     "data": {
      "text/plain": [
       "'human'"
      ]
     },
     "execution_count": 5,
     "metadata": {},
     "output_type": "execute_result"
    }
   ],
   "source": [
    "env.render_mode"
   ]
  },
  {
   "cell_type": "code",
   "execution_count": 6,
   "metadata": {},
   "outputs": [
    {
     "data": {
      "text/plain": [
       "'human'"
      ]
     },
     "execution_count": 6,
     "metadata": {},
     "output_type": "execute_result"
    }
   ],
   "source": [
    "env.render_mode"
   ]
  },
  {
   "cell_type": "code",
   "execution_count": 7,
   "metadata": {},
   "outputs": [
    {
     "name": "stdout",
     "output_type": "stream",
     "text": [
      "human\n"
     ]
    }
   ],
   "source": [
    "print(env.render_mode)"
   ]
  },
  {
   "cell_type": "code",
   "execution_count": 8,
   "metadata": {},
   "outputs": [
    {
     "name": "stdout",
     "output_type": "stream",
     "text": [
      "0.0 False\n",
      "0.0 False\n"
     ]
    },
    {
     "name": "stdout",
     "output_type": "stream",
     "text": [
      "0.0 False\n",
      "0.0 False\n"
     ]
    },
    {
     "name": "stderr",
     "output_type": "stream",
     "text": [
      "c:\\Users\\praya\\miniconda3\\envs\\ML\\lib\\site-packages\\gymnasium\\utils\\passive_env_checker.py:335: UserWarning: \u001b[33mWARN: No render fps was declared in the environment (env.metadata['render_fps'] is None or not defined), rendering may occur at inconsistent fps.\u001b[0m\n",
      "  logger.warn(\n"
     ]
    },
    {
     "name": "stdout",
     "output_type": "stream",
     "text": [
      "0.0 False\n",
      "0.0 False\n",
      "0.0 False\n",
      "0.0 False\n",
      "0.0 False\n",
      "0.0 False\n",
      "0.0 False\n",
      "0.0 False\n",
      "0.0 False\n",
      "0.0 False\n",
      "0.0 False\n",
      "0.0 False\n",
      "0.0 False\n",
      "0.0 False\n",
      "0.0 False\n",
      "0.0 False\n",
      "0.0 False\n",
      "0.0 False\n",
      "0.0 False\n",
      "0.0 False\n",
      "0.0 False\n",
      "0.0 False\n",
      "0.0 False\n",
      "0.0 False\n",
      "0.0 False\n",
      "0.0 False\n",
      "0.0 False\n",
      "0.0 False\n",
      "0.0 False\n",
      "0.0 False\n",
      "0.0 False\n",
      "0.0 False\n",
      "0.0 False\n",
      "0.0 False\n",
      "0.0 False\n",
      "0.0 False\n",
      "0.0 False\n",
      "0.0 False\n",
      "0.0 False\n",
      "0.0 False\n",
      "0.0 False\n",
      "0.0 False\n",
      "0.0 False\n",
      "0.0 False\n",
      "0.0 False\n",
      "0.0 False\n",
      "0.0 False\n",
      "0.0 False\n",
      "0.0 False\n",
      "0.0 False\n",
      "0.0 False\n",
      "0.0 False\n",
      "0.0 False\n",
      "0.0 False\n",
      "0.0 False\n",
      "0.0 False\n",
      "0.0 False\n",
      "0.0 False\n",
      "0.0 False\n",
      "-1.0 False\n",
      "0.0 False\n",
      "0.0 False\n",
      "0.0 False\n",
      "0.0 False\n",
      "0.0 False\n",
      "0.0 False\n",
      "0.0 False\n",
      "0.0 False\n",
      "0.0 False\n",
      "0.0 False\n",
      "0.0 False\n",
      "0.0 False\n",
      "0.0 False\n",
      "0.0 False\n",
      "0.0 False\n",
      "0.0 False\n",
      "0.0 False\n",
      "0.0 False\n",
      "0.0 False\n",
      "0.0 False\n",
      "0.0 False\n",
      "0.0 False\n",
      "0.0 False\n",
      "0.0 False\n",
      "0.0 False\n",
      "0.0 False\n",
      "0.0 False\n",
      "0.0 False\n",
      "0.0 False\n",
      "0.0 False\n",
      "0.0 False\n",
      "0.0 False\n",
      "0.0 False\n",
      "0.0 False\n",
      "-1.0 False\n",
      "0.0 False\n",
      "0.0 False\n",
      "0.0 False\n",
      "0.0 False\n",
      "0.0 False\n",
      "0.0 False\n",
      "0.0 False\n",
      "0.0 False\n",
      "0.0 False\n",
      "0.0 False\n",
      "0.0 False\n",
      "0.0 False\n",
      "0.0 False\n",
      "0.0 False\n",
      "0.0 False\n",
      "0.0 False\n",
      "0.0 False\n",
      "0.0 False\n",
      "0.0 False\n",
      "0.0 False\n",
      "0.0 False\n",
      "0.0 False\n",
      "0.0 False\n",
      "0.0 False\n",
      "0.0 False\n",
      "0.0 False\n",
      "0.0 False\n",
      "0.0 False\n",
      "0.0 False\n",
      "0.0 False\n",
      "0.0 False\n",
      "0.0 False\n",
      "0.0 False\n",
      "0.0 False\n",
      "-1.0 False\n",
      "0.0 False\n",
      "0.0 False\n",
      "0.0 False\n",
      "0.0 False\n",
      "0.0 False\n",
      "0.0 False\n",
      "0.0 False\n",
      "0.0 False\n",
      "0.0 False\n",
      "0.0 False\n",
      "0.0 False\n",
      "0.0 False\n",
      "0.0 False\n",
      "0.0 False\n",
      "0.0 False\n",
      "0.0 False\n",
      "0.0 False\n",
      "0.0 False\n",
      "0.0 False\n",
      "0.0 False\n",
      "0.0 False\n",
      "0.0 False\n",
      "0.0 False\n",
      "0.0 False\n",
      "0.0 False\n",
      "0.0 False\n",
      "0.0 False\n",
      "0.0 False\n",
      "0.0 False\n",
      "0.0 False\n",
      "0.0 False\n",
      "0.0 False\n",
      "0.0 False\n",
      "0.0 False\n",
      "-1.0 False\n",
      "0.0 False\n",
      "0.0 False\n",
      "0.0 False\n",
      "0.0 False\n",
      "0.0 False\n",
      "0.0 False\n",
      "0.0 False\n",
      "0.0 False\n",
      "0.0 False\n",
      "0.0 False\n",
      "0.0 False\n",
      "0.0 False\n",
      "0.0 False\n",
      "0.0 False\n",
      "0.0 False\n",
      "0.0 False\n",
      "0.0 False\n",
      "0.0 False\n",
      "0.0 False\n",
      "0.0 False\n",
      "0.0 False\n",
      "0.0 False\n",
      "0.0 False\n",
      "0.0 False\n",
      "0.0 False\n",
      "0.0 False\n",
      "0.0 False\n",
      "0.0 False\n",
      "0.0 False\n",
      "0.0 False\n",
      "0.0 False\n",
      "0.0 False\n",
      "0.0 False\n",
      "0.0 False\n",
      "-1.0 False\n",
      "0.0 False\n",
      "0.0 False\n",
      "0.0 False\n",
      "0.0 False\n",
      "0.0 False\n",
      "0.0 False\n",
      "0.0 False\n",
      "0.0 False\n",
      "0.0 False\n"
     ]
    },
    {
     "ename": "",
     "evalue": "",
     "output_type": "error",
     "traceback": [
      "\u001b[1;31mThe Kernel crashed while executing code in the current cell or a previous cell. \n",
      "\u001b[1;31mPlease review the code in the cell(s) to identify a possible cause of the failure. \n",
      "\u001b[1;31mClick <a href='https://aka.ms/vscodeJupyterKernelCrash'>here</a> for more info. \n",
      "\u001b[1;31mView Jupyter <a href='command:jupyter.viewOutput'>log</a> for further details."
     ]
    }
   ],
   "source": [
    "env.reset()\n",
    "gym.Env.render_mode = \"human\"\n",
    "is_done = False\n",
    "while not is_done:\n",
    "    action = ACTIONS[random.randint(0, n_action -1 )]\n",
    "    obs,reward, is_terminated, is_truncated , _ = env.step(action)\n",
    "    is_done= is_terminated or is_truncated\n",
    "    \n",
    "    print(reward, is_done)\n",
    "    #env.render_mode = \"human\"\n",
    "    env.render()"
   ]
  },
  {
   "cell_type": "code",
   "execution_count": null,
   "metadata": {},
   "outputs": [],
   "source": []
  },
  {
   "cell_type": "code",
   "execution_count": null,
   "metadata": {},
   "outputs": [],
   "source": []
  }
 ],
 "metadata": {
  "kernelspec": {
   "display_name": "sentEnv",
   "language": "python",
   "name": "python3"
  },
  "language_info": {
   "codemirror_mode": {
    "name": "ipython",
    "version": 3
   },
   "file_extension": ".py",
   "mimetype": "text/x-python",
   "name": "python",
   "nbconvert_exporter": "python",
   "pygments_lexer": "ipython3",
   "version": "3.8.18"
  }
 },
 "nbformat": 4,
 "nbformat_minor": 2
}
